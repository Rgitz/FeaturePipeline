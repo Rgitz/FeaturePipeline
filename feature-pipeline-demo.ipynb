{
 "cells": [
  {
   "cell_type": "code",
   "execution_count": 1,
   "metadata": {},
   "outputs": [],
   "source": [
    "import pandas as pd\n",
    "import numpy as np\n",
    "from time import time"
   ]
  },
  {
   "cell_type": "code",
   "execution_count": 2,
   "metadata": {},
   "outputs": [],
   "source": [
    "class Transformation():\n",
    "    \"\"\"\n",
    "    Encapsulation for individual computation logic used for feature creation\n",
    "    Applies a transformation on one or more Pandas Series\n",
    "    in order to produce one or more features\n",
    "    Args:\n",
    "        on_col: String or Tuple, Series names to use when\n",
    "            creating features\n",
    "        f: The function to use to transform the input\n",
    "        name: The name of the transformed feature (or prefix if >1 features)\n",
    "        args: dictionary of additional arguments of f\n",
    "        transform_type: Whether transform to be applied on series or dataframe object\n",
    "    \"\"\"\n",
    "    \n",
    "    def __init__(self, on_col, f, name, args=None, transform_type='series'):\n",
    "        self.on_col = on_col\n",
    "        self.transformation_f = f\n",
    "        self.name = name\n",
    "        self.transform_type = transform_type\n",
    "        \n",
    "        # Additional arguments for transformation\n",
    "        self.transformation_args = args\n",
    "        \n",
    "        self.transformation_applied = False\n",
    "        \n",
    "    def apply(self, args):\n",
    "        try:\n",
    "            tdf = self.transformation_f(**args)\n",
    "        except TypeError:\n",
    "            tdf = self.transformation_f(*list(args.values()))\n",
    "            \n",
    "        if self.name is not None:\n",
    "            if isinstance(tdf, pd.DataFrame):\n",
    "                if isinstance(self.name, list):\n",
    "                    tdf.columns = self.name\n",
    "                else:\n",
    "                    tdf.columns = [self.name + \"_\" + str(col) for col in tdf.columns]\n",
    "            elif isinstance(tdf, pd.Series):\n",
    "                tdf = pd.DataFrame(tdf)\n",
    "                tdf.columns = [self.name]\n",
    "                \n",
    "        tdf = tdf.reset_index(drop=True)\n",
    "        \n",
    "        self.transformation_applied = True\n",
    "        \n",
    "        return tdf\n",
    "        \n",
    "    \n",
    "    \n",
    "class FeaturePipeline():\n",
    "    \"\"\"\n",
    "    Create a feature pipeline for a raw data source.\n",
    "    Attributes:\n",
    "        transformations: The feature transformations for the pipeline\n",
    "    \"\"\"\n",
    "    def __init__(self, logger=None):\n",
    "        self.transformations = []\n",
    "        self.transformed_df = None\n",
    "        self.logger = logger\n",
    "        \n",
    "        self.transformed_df = None\n",
    "                \n",
    "    def add_transformation(self, on_cols, transformation_f, transformation_args=None, name=None, transform_type='series'):\n",
    "        \"\"\"\n",
    "        Add a feature.\n",
    "        Args:\n",
    "            on_cols: String or Tuple \n",
    "            transformation_f: The function to use to transform the input\n",
    "            transformation_args: Additional arguments for transformation\n",
    "            name: Transformation name\n",
    "            transform_type: Transformation type\n",
    "            \n",
    "        Returns:\n",
    "            self\n",
    "        \"\"\"\n",
    "        \n",
    "        if transformation_f in self.transformations:\n",
    "            print('Transformation: {} already added, skipping...'.format(transformation_f))\n",
    "            return self\n",
    "        \n",
    "        transformation_f.logger = self.logger\n",
    "        \n",
    "        if type(on_cols) in [str]:\n",
    "            on_cols = [on_cols]\n",
    "        \n",
    "        self.transformations.append(\n",
    "            Transformation(on_col=on_cols,\n",
    "                           f=transformation_f,\n",
    "                           args=transformation_args, \n",
    "                           name=name,\n",
    "                           transform_type=transform_type\n",
    "                          ))\n",
    "        \n",
    "        return self\n",
    "    \n",
    "    def get_args(self, t, df, transformed_df):\n",
    "        \"\"\"\n",
    "        Creates argument for transformation\n",
    "        \"\"\"\n",
    "        \n",
    "        list_of_series = []\n",
    "        on_col_list = []\n",
    "        if isinstance(t.on_col, str):\n",
    "            on_col_list = [t.on_col]\n",
    "        else:\n",
    "            on_col_list = t.on_col\n",
    "        \n",
    "        for c in on_col_list:\n",
    "            if c in df.columns:\n",
    "                s = df[c]\n",
    "                list_of_series.append(s)\n",
    "            else:\n",
    "                try:\n",
    "                    s = transformed_df[c]\n",
    "                    list_of_series.append(s)\n",
    "                except:\n",
    "                    raise Exception('Column {} not found in input dataframes'.format(c))                \n",
    "                        \n",
    "        if t.transform_type == 'series':\n",
    "            args = {'ser{}'.format(i+1): l for i, l in enumerate(list_of_series)}\n",
    "            \n",
    "        elif t.transform_type == 'dataframe':\n",
    "            arg_df = pd.concat(list_of_series, axis=1)\n",
    "            assert arg_df.shape[0] == list_of_series[0].shape[0], 'Argument dataframe has different shape than concatenated series'\n",
    "            args = {'df' : arg_df}\n",
    "        else:\n",
    "            raise Exception('Unknwon transform type')\n",
    "            \n",
    "        if t.transformation_args:\n",
    "            args.update(t.transformation_args)\n",
    "            \n",
    "        return args\n",
    "            \n",
    "        \n",
    "    def apply_transformations(self, df, index_cols=None, reapply_all=False):\n",
    "        \"\"\"\n",
    "        Apply feature pipline on raw data\n",
    "        Args:\n",
    "            df: Input DataFrame \n",
    "        Returns:\n",
    "            Features DataFrame\n",
    "        \"\"\"\n",
    "        \n",
    "        # Deduplicate the input dataframe on columns\n",
    "        df = df.loc[:,~df.columns.duplicated()].copy()\n",
    "        \n",
    "        # Create index column \n",
    "        if index_cols:\n",
    "            df['INDEX'] = df[index_cols].apply(lambda x: \"\".join([v for v in x[index_cols]]), axis=1)\n",
    "            \n",
    "            # Deduplicate the input dataframe at INDEX level\n",
    "            df = df.drop_duplicates(['INDEX'])\n",
    "        \n",
    "            # Set The new index\n",
    "            index_list = df['INDEX'].tolist()\n",
    "            df.index = index_list\n",
    "            del df['INDEX']\n",
    "        else:\n",
    "            index_list = df.index\n",
    "                \n",
    "        transformed_df = None or self.transformed_df\n",
    "        for t in self.transformations:\n",
    "            if t.transformation_applied and (not reapply_all):\n",
    "                print('Transformation: {} applied, skipping...'.format(t))\n",
    "                continue\n",
    "            args = self.get_args(t=t, df=df, transformed_df=transformed_df)\n",
    "            \n",
    "            if transformed_df is None:\n",
    "                transformed_df = t.apply(args)\n",
    "                transformed_df.index = index_list\n",
    "            else:\n",
    "                tdf = t.apply(args)\n",
    "                tdf.index = index_list\n",
    "                transformed_df = pd.concat([transformed_df, tdf], axis=1)\n",
    "                \n",
    "            self.transformed_df = transformed_df\n",
    "        return transformed_df\n",
    "\n",
    "        "
   ]
  },
  {
   "cell_type": "markdown",
   "metadata": {},
   "source": [
    "### 1. Read Raw Data"
   ]
  },
  {
   "cell_type": "code",
   "execution_count": 3,
   "metadata": {},
   "outputs": [],
   "source": [
    "raw_data = pd.read_excel(\"../data/sample_raw_data.xlsx\")"
   ]
  },
  {
   "cell_type": "code",
   "execution_count": 4,
   "metadata": {},
   "outputs": [
    {
     "data": {
      "text/html": [
       "<div>\n",
       "<style scoped>\n",
       "    .dataframe tbody tr th:only-of-type {\n",
       "        vertical-align: middle;\n",
       "    }\n",
       "\n",
       "    .dataframe tbody tr th {\n",
       "        vertical-align: top;\n",
       "    }\n",
       "\n",
       "    .dataframe thead th {\n",
       "        text-align: right;\n",
       "    }\n",
       "</style>\n",
       "<table border=\"1\" class=\"dataframe\">\n",
       "  <thead>\n",
       "    <tr style=\"text-align: right;\">\n",
       "      <th></th>\n",
       "      <th>ClaimNumber</th>\n",
       "      <th>LossCountry</th>\n",
       "      <th>ReportDate</th>\n",
       "      <th>LossDate</th>\n",
       "      <th>Hospital_Start_Date</th>\n",
       "      <th>Hospital_End_Date</th>\n",
       "      <th>DepartureDate</th>\n",
       "      <th>ReturnDate</th>\n",
       "      <th>Claimed_Amount</th>\n",
       "      <th>POL_Eff_Date</th>\n",
       "    </tr>\n",
       "  </thead>\n",
       "  <tbody>\n",
       "    <tr>\n",
       "      <th>count</th>\n",
       "      <td>5000</td>\n",
       "      <td>5000</td>\n",
       "      <td>5000</td>\n",
       "      <td>5000</td>\n",
       "      <td>5000</td>\n",
       "      <td>5000</td>\n",
       "      <td>5000</td>\n",
       "      <td>5000</td>\n",
       "      <td>5000</td>\n",
       "      <td>5000</td>\n",
       "    </tr>\n",
       "    <tr>\n",
       "      <th>unique</th>\n",
       "      <td>5000</td>\n",
       "      <td>75</td>\n",
       "      <td>1622</td>\n",
       "      <td>1901</td>\n",
       "      <td>128</td>\n",
       "      <td>125</td>\n",
       "      <td>913</td>\n",
       "      <td>766</td>\n",
       "      <td>455</td>\n",
       "      <td>2286</td>\n",
       "    </tr>\n",
       "    <tr>\n",
       "      <th>top</th>\n",
       "      <td>Claim_2231</td>\n",
       "      <td>Thailand</td>\n",
       "      <td>2020-03-18</td>\n",
       "      <td>2018-09-16</td>\n",
       "      <td>NaT</td>\n",
       "      <td>NaT</td>\n",
       "      <td>nan</td>\n",
       "      <td>nan</td>\n",
       "      <td>0.0</td>\n",
       "      <td>2014-04-01</td>\n",
       "    </tr>\n",
       "    <tr>\n",
       "      <th>freq</th>\n",
       "      <td>1</td>\n",
       "      <td>1852</td>\n",
       "      <td>14</td>\n",
       "      <td>19</td>\n",
       "      <td>4867</td>\n",
       "      <td>4869</td>\n",
       "      <td>3739</td>\n",
       "      <td>4004</td>\n",
       "      <td>2817</td>\n",
       "      <td>310</td>\n",
       "    </tr>\n",
       "  </tbody>\n",
       "</table>\n",
       "</div>"
      ],
      "text/plain": [
       "       ClaimNumber LossCountry  ReportDate    LossDate Hospital_Start_Date  \\\n",
       "count         5000        5000        5000        5000                5000   \n",
       "unique        5000          75        1622        1901                 128   \n",
       "top     Claim_2231    Thailand  2020-03-18  2018-09-16                 NaT   \n",
       "freq             1        1852          14          19                4867   \n",
       "\n",
       "       Hospital_End_Date DepartureDate ReturnDate Claimed_Amount POL_Eff_Date  \n",
       "count               5000          5000       5000           5000         5000  \n",
       "unique               125           913        766            455         2286  \n",
       "top                  NaT           nan        nan            0.0   2014-04-01  \n",
       "freq                4869          3739       4004           2817          310  "
      ]
     },
     "execution_count": 4,
     "metadata": {},
     "output_type": "execute_result"
    }
   ],
   "source": [
    "raw_data.astype(str).describe()"
   ]
  },
  {
   "cell_type": "code",
   "execution_count": 5,
   "metadata": {},
   "outputs": [
    {
     "data": {
      "text/plain": [
       "Index(['ClaimNumber', 'LossCountry', 'ReportDate', 'LossDate',\n",
       "       'Hospital_Start_Date', 'Hospital_End_Date', 'DepartureDate',\n",
       "       'ReturnDate', 'Claimed_Amount', 'POL_Eff_Date'],\n",
       "      dtype='object')"
      ]
     },
     "execution_count": 5,
     "metadata": {},
     "output_type": "execute_result"
    }
   ],
   "source": [
    "raw_data.columns"
   ]
  },
  {
   "cell_type": "markdown",
   "metadata": {},
   "source": [
    "### 2. Define transforms functions\n"
   ]
  },
  {
   "cell_type": "code",
   "execution_count": 6,
   "metadata": {},
   "outputs": [],
   "source": [
    "# Computation logic defined on series\n",
    "\n",
    "def transforms_above_threshold(ser1, threshold):\n",
    "    \"\"\"\n",
    "    Creates indicators based on claimed amount\n",
    "    \n",
    "    ser1: Series of values\n",
    "    threshold: threshold value\n",
    "    \"\"\"\n",
    "    s = pd.Series(np.where(ser1 > threshold, 1, 0))\n",
    "    s.index = ser1.index\n",
    "    \n",
    "    return s\n",
    "\n",
    "\n",
    "def transforms_days_between(ser1, ser2):\n",
    "    \"\"\"\n",
    "    Difference between Dates in Days\n",
    "    \n",
    "    ser1: 'From' Date Series\n",
    "    ser2: 'To' Date Series   \n",
    "    \"\"\"\n",
    "    s1 = pd.to_datetime(ser1)\n",
    "    s2 = pd.to_datetime(ser2)\n",
    "    ser1 = (s2 - s1).dt.days\n",
    "    \n",
    "    # To Date>= From Date\n",
    "    ser1 = ser1.clip(0)\n",
    "    return ser1\n"
   ]
  },
  {
   "cell_type": "code",
   "execution_count": null,
   "metadata": {},
   "outputs": [],
   "source": []
  },
  {
   "cell_type": "markdown",
   "metadata": {},
   "source": [
    "### 3. Create feature Pipeline"
   ]
  },
  {
   "cell_type": "code",
   "execution_count": 7,
   "metadata": {},
   "outputs": [],
   "source": [
    "ff = FeaturePipeline()"
   ]
  },
  {
   "cell_type": "markdown",
   "metadata": {},
   "source": [
    "#### 3.1. Fradulent claims generally have high claimed amount"
   ]
  },
  {
   "cell_type": "code",
   "execution_count": 8,
   "metadata": {},
   "outputs": [
    {
     "data": {
      "text/plain": [
       "<__main__.FeaturePipeline at 0x24801671e50>"
      ]
     },
     "execution_count": 8,
     "metadata": {},
     "output_type": "execute_result"
    }
   ],
   "source": [
    "ff.add_transformation(on_cols=('Claimed_Amount'), \n",
    "                      transformation_f=transforms_above_threshold,\n",
    "                      transformation_args={'threshold': 500},\n",
    "                      name='HighClaimedAmount')"
   ]
  },
  {
   "cell_type": "code",
   "execution_count": null,
   "metadata": {},
   "outputs": [],
   "source": []
  },
  {
   "cell_type": "markdown",
   "metadata": {},
   "source": [
    "#### 3.2. Tracking travel duration could help identifying suspicious claims "
   ]
  },
  {
   "cell_type": "code",
   "execution_count": 9,
   "metadata": {},
   "outputs": [
    {
     "data": {
      "text/plain": [
       "<__main__.FeaturePipeline at 0x24801671e50>"
      ]
     },
     "execution_count": 9,
     "metadata": {},
     "output_type": "execute_result"
    }
   ],
   "source": [
    "ff.add_transformation(on_cols=('DepartureDate', 'ReturnDate'), \n",
    "                      transformation_f=transforms_days_between,\n",
    "                      transformation_args=None,\n",
    "                      name='TravelLength')"
   ]
  },
  {
   "cell_type": "code",
   "execution_count": null,
   "metadata": {},
   "outputs": [],
   "source": []
  },
  {
   "cell_type": "markdown",
   "metadata": {},
   "source": [
    "#### 3.3. Tracking duration between loss & report date could help identifying suspicious claims "
   ]
  },
  {
   "cell_type": "code",
   "execution_count": 10,
   "metadata": {},
   "outputs": [
    {
     "data": {
      "text/plain": [
       "<__main__.FeaturePipeline at 0x24801671e50>"
      ]
     },
     "execution_count": 10,
     "metadata": {},
     "output_type": "execute_result"
    }
   ],
   "source": [
    "ff.add_transformation(on_cols=('LossDate', 'ReportDate'), \n",
    "                      transformation_f=transforms_days_between,\n",
    "                      transformation_args=None,\n",
    "                      name='ReportLag')"
   ]
  },
  {
   "cell_type": "code",
   "execution_count": null,
   "metadata": {},
   "outputs": [],
   "source": []
  },
  {
   "cell_type": "markdown",
   "metadata": {},
   "source": [
    "#### 3.4. Tracking duration between hospital admit date & hospital discharge could help identifying suspicious claims"
   ]
  },
  {
   "cell_type": "code",
   "execution_count": 11,
   "metadata": {},
   "outputs": [
    {
     "data": {
      "text/plain": [
       "<__main__.FeaturePipeline at 0x24801671e50>"
      ]
     },
     "execution_count": 11,
     "metadata": {},
     "output_type": "execute_result"
    }
   ],
   "source": [
    "ff.add_transformation(on_cols=('Hospital_Start_Date', 'Hospital_End_Date'), \n",
    "                      transformation_f=transforms_days_between,\n",
    "                      transformation_args=None,\n",
    "                      name='HospitalStayLength')"
   ]
  },
  {
   "cell_type": "code",
   "execution_count": null,
   "metadata": {},
   "outputs": [],
   "source": []
  },
  {
   "cell_type": "markdown",
   "metadata": {},
   "source": [
    "#### 3.5. Tracking duration between Loss Date & Policy Effective Date could help identifying suspicious claims"
   ]
  },
  {
   "cell_type": "code",
   "execution_count": 12,
   "metadata": {},
   "outputs": [
    {
     "data": {
      "text/plain": [
       "<__main__.FeaturePipeline at 0x24801671e50>"
      ]
     },
     "execution_count": 12,
     "metadata": {},
     "output_type": "execute_result"
    }
   ],
   "source": [
    "ff.add_transformation(on_cols=('POL_Eff_Date', 'LossDate'), \n",
    "                      transformation_f=transforms_days_between,\n",
    "                      transformation_args=None,\n",
    "                      name='LossDurationSincePolicyEffective')"
   ]
  },
  {
   "cell_type": "code",
   "execution_count": null,
   "metadata": {},
   "outputs": [],
   "source": []
  },
  {
   "cell_type": "code",
   "execution_count": 13,
   "metadata": {},
   "outputs": [],
   "source": [
    "features = ff.apply_transformations(df=raw_data, index_cols=['ClaimNumber'])"
   ]
  },
  {
   "cell_type": "code",
   "execution_count": 14,
   "metadata": {},
   "outputs": [
    {
     "data": {
      "text/html": [
       "<div>\n",
       "<style scoped>\n",
       "    .dataframe tbody tr th:only-of-type {\n",
       "        vertical-align: middle;\n",
       "    }\n",
       "\n",
       "    .dataframe tbody tr th {\n",
       "        vertical-align: top;\n",
       "    }\n",
       "\n",
       "    .dataframe thead th {\n",
       "        text-align: right;\n",
       "    }\n",
       "</style>\n",
       "<table border=\"1\" class=\"dataframe\">\n",
       "  <thead>\n",
       "    <tr style=\"text-align: right;\">\n",
       "      <th></th>\n",
       "      <th>HighClaimedAmount</th>\n",
       "      <th>TravelLength</th>\n",
       "      <th>ReportLag</th>\n",
       "      <th>HospitalStayLength</th>\n",
       "      <th>LossDurationSincePolicyEffective</th>\n",
       "    </tr>\n",
       "  </thead>\n",
       "  <tbody>\n",
       "    <tr>\n",
       "      <th>count</th>\n",
       "      <td>5000.00000</td>\n",
       "      <td>982.000000</td>\n",
       "      <td>5000.000000</td>\n",
       "      <td>131.000000</td>\n",
       "      <td>5000.000000</td>\n",
       "    </tr>\n",
       "    <tr>\n",
       "      <th>mean</th>\n",
       "      <td>0.07860</td>\n",
       "      <td>10.178208</td>\n",
       "      <td>43.579600</td>\n",
       "      <td>4.022901</td>\n",
       "      <td>1177.416000</td>\n",
       "    </tr>\n",
       "    <tr>\n",
       "      <th>std</th>\n",
       "      <td>0.26914</td>\n",
       "      <td>28.931812</td>\n",
       "      <td>85.770203</td>\n",
       "      <td>7.125756</td>\n",
       "      <td>1570.842842</td>\n",
       "    </tr>\n",
       "    <tr>\n",
       "      <th>min</th>\n",
       "      <td>0.00000</td>\n",
       "      <td>0.000000</td>\n",
       "      <td>0.000000</td>\n",
       "      <td>0.000000</td>\n",
       "      <td>0.000000</td>\n",
       "    </tr>\n",
       "    <tr>\n",
       "      <th>25%</th>\n",
       "      <td>0.00000</td>\n",
       "      <td>1.000000</td>\n",
       "      <td>10.000000</td>\n",
       "      <td>1.000000</td>\n",
       "      <td>91.000000</td>\n",
       "    </tr>\n",
       "    <tr>\n",
       "      <th>50%</th>\n",
       "      <td>0.00000</td>\n",
       "      <td>4.000000</td>\n",
       "      <td>22.000000</td>\n",
       "      <td>2.000000</td>\n",
       "      <td>454.500000</td>\n",
       "    </tr>\n",
       "    <tr>\n",
       "      <th>75%</th>\n",
       "      <td>0.00000</td>\n",
       "      <td>9.000000</td>\n",
       "      <td>51.000000</td>\n",
       "      <td>4.000000</td>\n",
       "      <td>1770.250000</td>\n",
       "    </tr>\n",
       "    <tr>\n",
       "      <th>max</th>\n",
       "      <td>1.00000</td>\n",
       "      <td>364.000000</td>\n",
       "      <td>2224.000000</td>\n",
       "      <td>66.000000</td>\n",
       "      <td>10833.000000</td>\n",
       "    </tr>\n",
       "  </tbody>\n",
       "</table>\n",
       "</div>"
      ],
      "text/plain": [
       "       HighClaimedAmount  TravelLength    ReportLag  HospitalStayLength  \\\n",
       "count         5000.00000    982.000000  5000.000000          131.000000   \n",
       "mean             0.07860     10.178208    43.579600            4.022901   \n",
       "std              0.26914     28.931812    85.770203            7.125756   \n",
       "min              0.00000      0.000000     0.000000            0.000000   \n",
       "25%              0.00000      1.000000    10.000000            1.000000   \n",
       "50%              0.00000      4.000000    22.000000            2.000000   \n",
       "75%              0.00000      9.000000    51.000000            4.000000   \n",
       "max              1.00000    364.000000  2224.000000           66.000000   \n",
       "\n",
       "       LossDurationSincePolicyEffective  \n",
       "count                       5000.000000  \n",
       "mean                        1177.416000  \n",
       "std                         1570.842842  \n",
       "min                            0.000000  \n",
       "25%                           91.000000  \n",
       "50%                          454.500000  \n",
       "75%                         1770.250000  \n",
       "max                        10833.000000  "
      ]
     },
     "execution_count": 14,
     "metadata": {},
     "output_type": "execute_result"
    }
   ],
   "source": [
    "features.describe()"
   ]
  },
  {
   "cell_type": "code",
   "execution_count": 15,
   "metadata": {},
   "outputs": [
    {
     "data": {
      "text/html": [
       "<div>\n",
       "<style scoped>\n",
       "    .dataframe tbody tr th:only-of-type {\n",
       "        vertical-align: middle;\n",
       "    }\n",
       "\n",
       "    .dataframe tbody tr th {\n",
       "        vertical-align: top;\n",
       "    }\n",
       "\n",
       "    .dataframe thead th {\n",
       "        text-align: right;\n",
       "    }\n",
       "</style>\n",
       "<table border=\"1\" class=\"dataframe\">\n",
       "  <thead>\n",
       "    <tr style=\"text-align: right;\">\n",
       "      <th></th>\n",
       "      <th>HighClaimedAmount</th>\n",
       "      <th>TravelLength</th>\n",
       "      <th>ReportLag</th>\n",
       "      <th>HospitalStayLength</th>\n",
       "      <th>LossDurationSincePolicyEffective</th>\n",
       "    </tr>\n",
       "  </thead>\n",
       "  <tbody>\n",
       "    <tr>\n",
       "      <th>Claim_0</th>\n",
       "      <td>0</td>\n",
       "      <td>NaN</td>\n",
       "      <td>4</td>\n",
       "      <td>NaN</td>\n",
       "      <td>4</td>\n",
       "    </tr>\n",
       "    <tr>\n",
       "      <th>Claim_1</th>\n",
       "      <td>0</td>\n",
       "      <td>2.0</td>\n",
       "      <td>11</td>\n",
       "      <td>NaN</td>\n",
       "      <td>9</td>\n",
       "    </tr>\n",
       "    <tr>\n",
       "      <th>Claim_2</th>\n",
       "      <td>0</td>\n",
       "      <td>NaN</td>\n",
       "      <td>11</td>\n",
       "      <td>NaN</td>\n",
       "      <td>4904</td>\n",
       "    </tr>\n",
       "    <tr>\n",
       "      <th>Claim_3</th>\n",
       "      <td>0</td>\n",
       "      <td>NaN</td>\n",
       "      <td>24</td>\n",
       "      <td>NaN</td>\n",
       "      <td>199</td>\n",
       "    </tr>\n",
       "    <tr>\n",
       "      <th>Claim_4</th>\n",
       "      <td>0</td>\n",
       "      <td>NaN</td>\n",
       "      <td>16</td>\n",
       "      <td>NaN</td>\n",
       "      <td>1340</td>\n",
       "    </tr>\n",
       "  </tbody>\n",
       "</table>\n",
       "</div>"
      ],
      "text/plain": [
       "         HighClaimedAmount  TravelLength  ReportLag  HospitalStayLength  \\\n",
       "Claim_0                  0           NaN          4                 NaN   \n",
       "Claim_1                  0           2.0         11                 NaN   \n",
       "Claim_2                  0           NaN         11                 NaN   \n",
       "Claim_3                  0           NaN         24                 NaN   \n",
       "Claim_4                  0           NaN         16                 NaN   \n",
       "\n",
       "         LossDurationSincePolicyEffective  \n",
       "Claim_0                                 4  \n",
       "Claim_1                                 9  \n",
       "Claim_2                              4904  \n",
       "Claim_3                               199  \n",
       "Claim_4                              1340  "
      ]
     },
     "execution_count": 15,
     "metadata": {},
     "output_type": "execute_result"
    }
   ],
   "source": [
    "features.head()"
   ]
  },
  {
   "cell_type": "code",
   "execution_count": null,
   "metadata": {},
   "outputs": [],
   "source": []
  }
 ],
 "metadata": {
  "kernelspec": {
   "display_name": "Python 3",
   "language": "python",
   "name": "python3"
  },
  "language_info": {
   "codemirror_mode": {
    "name": "ipython",
    "version": 3
   },
   "file_extension": ".py",
   "mimetype": "text/x-python",
   "name": "python",
   "nbconvert_exporter": "python",
   "pygments_lexer": "ipython3",
   "version": "3.8.5"
  }
 },
 "nbformat": 4,
 "nbformat_minor": 4
}
